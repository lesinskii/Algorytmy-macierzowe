{
 "cells": [
  {
   "cell_type": "code",
   "execution_count": 49,
   "metadata": {},
   "outputs": [],
   "source": [
    "import numpy as np"
   ]
  },
  {
   "cell_type": "code",
   "execution_count": 50,
   "metadata": {},
   "outputs": [],
   "source": [
    "#funkcja generująca losową macierz o rozmiarze nxn i wartościach z przedziału (0.00000001, 1.0) \n",
    "\n",
    "def generate_matrix(n):\n",
    "    return np.random.uniform(0.00000001, 1.0,(n,n))\n",
    "\n",
    "# Funkcja pomocnicza do znajdowania najbliższej potęgi dwójki\n",
    "def next_power_of_two(n):\n",
    "    return 1 if n == 0 else 2**(n - 1).bit_length()\n",
    "\n",
    "# Funkcja rozszerzająca macierz do rozmiaru będącego potęgą dwójki\n",
    "def pad_matrix_to_power_of_two(A):\n",
    "    (n, m) = A.shape\n",
    "    new_size = next_power_of_two(max(n, m))\n",
    "    padded_matrix = np.zeros((new_size, new_size))\n",
    "    padded_matrix[:n, :m] = A\n",
    "    return padded_matrix\n",
    "\n",
    "# Funkcja przycinająca macierz do oryginalnego rozmiaru\n",
    "def unpad_matrix(C, original_size):\n",
    "    return C[:original_size, :original_size]"
   ]
  },
  {
   "cell_type": "code",
   "execution_count": 51,
   "metadata": {},
   "outputs": [],
   "source": [
    "# 1. Rekurencyjne mnożenie macierzy metodą Binéta (rekurencyjne, ale bez optymalizacji Strassena)\n",
    "def binet_multiply(A, B):\n",
    "    n = A.shape[0]\n",
    "    if n == 1:\n",
    "        return A * B\n",
    "    else:\n",
    "        mid = n // 2\n",
    "        A11, A12, A21, A22 = A[:mid, :mid], A[:mid, mid:], A[mid:, :mid], A[mid:, mid:]\n",
    "        B11, B12, B21, B22 = B[:mid, :mid], B[:mid, mid:], B[mid:, :mid], B[mid:, mid:]\n",
    "\n",
    "        C11 = binet_multiply(A11, B11) + binet_multiply(A12, B21)\n",
    "        C12 = binet_multiply(A11, B12) + binet_multiply(A12, B22)\n",
    "        C21 = binet_multiply(A21, B11) + binet_multiply(A22, B21)\n",
    "        C22 = binet_multiply(A21, B12) + binet_multiply(A22, B22)\n",
    "\n",
    "        C = np.vstack((np.hstack((C11, C12)), np.hstack((C21, C22))))\n",
    "        return C"
   ]
  },
  {
   "cell_type": "code",
   "execution_count": 52,
   "metadata": {},
   "outputs": [],
   "source": [
    "# 2. Rekurencyjne mnożenie macierzy metodą Strassena\n",
    "def strassen_multiply(A, B):\n",
    "    n = A.shape[0]\n",
    "    if n == 1:\n",
    "        return A * B\n",
    "    else:\n",
    "        mid = n // 2\n",
    "        A11, A12, A21, A22 = A[:mid, :mid], A[:mid, mid:], A[mid:, :mid], A[mid:, mid:]\n",
    "        B11, B12, B21, B22 = B[:mid, :mid], B[:mid, mid:], B[mid:, :mid], B[mid:, mid:]\n",
    "\n",
    "        M0 = strassen_multiply(A11 + A22, B11 + B22)\n",
    "        M1 = strassen_multiply(A21 + A22, B11)\n",
    "        M2 = strassen_multiply(A11, B12 - B22)\n",
    "        M3 = strassen_multiply(A22, B21 - B11)\n",
    "        M4 = strassen_multiply(A11 + A12, B22)\n",
    "        M5 = strassen_multiply(A21 - A11, B11 + B12)\n",
    "        M6 = strassen_multiply(A12 - A22, B21 + B22)\n",
    "\n",
    "        C11 = M0 + M3 - M4 + M6\n",
    "        C12 = M2 + M4\n",
    "        C21 = M1 + M3\n",
    "        C22 = M0 + M2 - M1 + M5\n",
    "\n",
    "        C = np.vstack((np.hstack((C11, C12)), np.hstack((C21, C22))))\n",
    "        return C"
   ]
  },
  {
   "cell_type": "code",
   "execution_count": 53,
   "metadata": {},
   "outputs": [
    {
     "name": "stdout",
     "output_type": "stream",
     "text": [
      "Mnożenie macierzy metodą Binéta (rekurencyjnie):\n",
      "[[3.16172529 3.59094281 2.77393093 3.88191744 4.20783079 3.12666574\n",
      "  3.78640898 3.55077489 2.38472061 2.76915606]\n",
      " [2.84601472 3.46313744 2.62001417 3.67033908 3.74032784 2.71147334\n",
      "  3.45770955 2.91786187 2.20274974 2.64966106]\n",
      " [2.42974928 3.28593474 2.24251405 2.71720842 3.6301185  2.76567261\n",
      "  2.47225049 2.48602172 1.82788489 2.53459528]\n",
      " [2.11240023 2.70927042 2.53583579 3.09711432 3.42441963 2.14735694\n",
      "  2.90195823 2.9642436  1.94397001 2.21442815]\n",
      " [2.40483404 2.26950361 2.0280613  2.50514806 2.74606361 2.06484856\n",
      "  2.77003641 2.40079584 1.28420737 1.90778151]\n",
      " [2.31643393 3.37210045 2.24612237 2.6990432  3.63319338 2.52273396\n",
      "  2.66744878 2.43832933 1.68312214 2.32261786]\n",
      " [1.98422634 2.79238761 2.59579348 2.56596661 3.37476357 2.15228296\n",
      "  2.47851505 2.55416489 1.54960713 1.90366056]\n",
      " [1.44520284 2.19112025 2.09340825 2.50035827 2.44164377 1.72254107\n",
      "  1.83288649 2.02714747 1.20783465 1.35834301]\n",
      " [1.31668853 2.03649634 1.17926793 1.38228149 2.17976672 1.53947633\n",
      "  1.38755311 1.38577708 1.08253053 1.49122742]\n",
      " [2.23158987 2.38312376 2.34385214 2.31129121 3.06019212 1.88655021\n",
      "  2.80939261 2.4581731  1.62387959 2.11314243]]\n",
      "\n",
      "Mnożenie macierzy metodą Strassena:\n",
      "[[3.16172529 3.59094281 2.77393093 3.88191744 4.20783079 3.12666574\n",
      "  3.78640898 3.55077489 2.38472061 2.76915606]\n",
      " [2.84601472 3.46313744 2.62001417 3.67033908 3.74032784 2.71147334\n",
      "  3.45770955 2.91786187 2.20274974 2.64966106]\n",
      " [2.42974928 3.28593474 2.24251405 2.71720842 3.6301185  2.76567261\n",
      "  2.47225049 2.48602172 1.82788489 2.53459528]\n",
      " [2.11240023 2.70927042 2.53583579 3.09711432 3.42441963 2.14735694\n",
      "  2.90195823 2.9642436  1.94397001 2.21442815]\n",
      " [2.40483404 2.26950361 2.0280613  2.50514806 2.74606361 2.06484856\n",
      "  2.77003641 2.40079584 1.28420737 1.90778151]\n",
      " [2.31643393 3.37210045 2.24612237 2.6990432  3.63319338 2.52273396\n",
      "  2.66744878 2.43832933 1.68312214 2.32261786]\n",
      " [1.98422634 2.79238761 2.59579348 2.56596661 3.37476357 2.15228296\n",
      "  2.47851505 2.55416489 1.54960713 1.90366056]\n",
      " [1.44520284 2.19112025 2.09340825 2.50035827 2.44164377 1.72254107\n",
      "  1.83288649 2.02714747 1.20783465 1.35834301]\n",
      " [1.31668853 2.03649634 1.17926793 1.38228149 2.17976672 1.53947633\n",
      "  1.38755311 1.38577708 1.08253053 1.49122742]\n",
      " [2.23158987 2.38312376 2.34385214 2.31129121 3.06019212 1.88655021\n",
      "  2.80939261 2.4581731  1.62387959 2.11314243]]\n"
     ]
    }
   ],
   "source": [
    "n = 10 \n",
    "A = generate_matrix(n)\n",
    "B = generate_matrix(n)\n",
    "\n",
    "# Rozszerzenie macierzy do rozmiaru będącego potęgą 2\n",
    "A_padded = pad_matrix_to_power_of_two(A)\n",
    "B_padded = pad_matrix_to_power_of_two(B)\n",
    "\n",
    "# Mnożenie metodą Binéta\n",
    "C_binet_padded = binet_multiply(A_padded, B_padded)\n",
    "C_binet = unpad_matrix(C_binet_padded, n)  # Przycinanie do oryginalnego rozmiaru\n",
    "print(\"Mnożenie macierzy metodą Binéta (rekurencyjnie):\")\n",
    "print(C_binet)\n",
    "\n",
    "# Mnożenie metodą Strassena\n",
    "C_strassen_padded = strassen_multiply(A_padded, B_padded)\n",
    "C_strassen = unpad_matrix(C_strassen_padded, n)  # Przycinanie do oryginalnego rozmiaru\n",
    "print(\"\\nMnożenie macierzy metodą Strassena:\")\n",
    "print(C_strassen)"
   ]
  }
 ],
 "metadata": {
  "kernelspec": {
   "display_name": "Python 3",
   "language": "python",
   "name": "python3"
  },
  "language_info": {
   "codemirror_mode": {
    "name": "ipython",
    "version": 3
   },
   "file_extension": ".py",
   "mimetype": "text/x-python",
   "name": "python",
   "nbconvert_exporter": "python",
   "pygments_lexer": "ipython3",
   "version": "3.12.6"
  }
 },
 "nbformat": 4,
 "nbformat_minor": 2
}
